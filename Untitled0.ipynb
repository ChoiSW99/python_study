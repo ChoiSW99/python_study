{
  "nbformat": 4,
  "nbformat_minor": 0,
  "metadata": {
    "colab": {
      "name": "Untitled0.ipynb",
      "provenance": [],
      "collapsed_sections": [],
      "authorship_tag": "ABX9TyPsaPuJZyvW+18uwajWnzhz",
      "include_colab_link": true
    },
    "kernelspec": {
      "name": "python3",
      "display_name": "Python 3"
    },
    "language_info": {
      "name": "python"
    }
  },
  "cells": [
    {
      "cell_type": "markdown",
      "metadata": {
        "id": "view-in-github",
        "colab_type": "text"
      },
      "source": [
        "<a href=\"https://colab.research.google.com/github/ChoiSW99/python_study/blob/main/Untitled0.ipynb\" target=\"_parent\"><img src=\"https://colab.research.google.com/assets/colab-badge.svg\" alt=\"Open In Colab\"/></a>"
      ]
    },
    {
      "cell_type": "code",
      "metadata": {
        "colab": {
          "base_uri": "https://localhost:8080/"
        },
        "id": "GkU1djt5yu0q",
        "outputId": "561ebd34-90d3-465b-d4b8-b1b718e6d032"
      },
      "source": [
        "x = [ -1.1, 0.0, 3.6, -7.2]\n",
        "len(x)"
      ],
      "execution_count": null,
      "outputs": [
        {
          "output_type": "execute_result",
          "data": {
            "text/plain": [
              "4"
            ]
          },
          "metadata": {},
          "execution_count": 50
        }
      ]
    },
    {
      "cell_type": "code",
      "metadata": {
        "colab": {
          "base_uri": "https://localhost:8080/"
        },
        "id": "lF8GHqoI1u3O",
        "outputId": "6bc48343-c925-4952-8fe7-f4306e431ad5"
      },
      "source": [
        "import numpy as np\n",
        "x = np.array([-1.1, 0.0, 3.6, -7.2])\n",
        "print(len(x))\n",
        "print(x[2])\n",
        "x[2] = 20.0\n",
        "print(x[2])"
      ],
      "execution_count": null,
      "outputs": [
        {
          "output_type": "stream",
          "name": "stdout",
          "text": [
            "4\n",
            "3.6\n",
            "20.0\n"
          ]
        }
      ]
    },
    {
      "cell_type": "code",
      "metadata": {
        "colab": {
          "base_uri": "https://localhost:8080/"
        },
        "id": "WJGDomxv3yGY",
        "outputId": "13eaa915-6f6a-4d9f-af47-e24e978af802"
      },
      "source": [
        "x = np.array([-1.1, 0.0, 3.6, -7.2])\n",
        "y = x\n",
        "x[2]=20.0\n",
        "print(y)"
      ],
      "execution_count": null,
      "outputs": [
        {
          "output_type": "stream",
          "name": "stdout",
          "text": [
            "[-1.1  0.  20.  -7.2]\n"
          ]
        }
      ]
    },
    {
      "cell_type": "code",
      "metadata": {
        "colab": {
          "base_uri": "https://localhost:8080/"
        },
        "id": "XyQ7S01l34Cf",
        "outputId": "37398a7f-1be8-42db-8483-74fa45884fe5"
      },
      "source": [
        "x = np.array([-1.1, 0.0, 3.6, -7.2])\n",
        "y = x.copy()\n",
        "x[2]=20.0\n",
        "print(y)"
      ],
      "execution_count": null,
      "outputs": [
        {
          "output_type": "stream",
          "name": "stdout",
          "text": [
            "[-1.1  0.   3.6 -7.2]\n"
          ]
        }
      ]
    },
    {
      "cell_type": "code",
      "metadata": {
        "colab": {
          "base_uri": "https://localhost:8080/"
        },
        "id": "2VI74ARs4Ewg",
        "outputId": "0a3583e7-c97d-467c-8612-6a8700721722"
      },
      "source": [
        "x = np.array([-1.1, 0.0, 3.6, -7.2])\n",
        "y = x.copy()\n",
        "x == y"
      ],
      "execution_count": null,
      "outputs": [
        {
          "output_type": "execute_result",
          "data": {
            "text/plain": [
              "array([ True,  True,  True,  True])"
            ]
          },
          "metadata": {},
          "execution_count": 41
        }
      ]
    },
    {
      "cell_type": "code",
      "metadata": {
        "colab": {
          "base_uri": "https://localhost:8080/"
        },
        "id": "8WenCR0p4nRs",
        "outputId": "c08f8e72-d930-4428-8f60-cd797b8bc7f8"
      },
      "source": [
        "x = np.array([-1.1, 0.0, 3.6, -7.2])\n",
        "y = x.copy()\n",
        "y[3] = 9.0\n",
        "x == y"
      ],
      "execution_count": null,
      "outputs": [
        {
          "output_type": "execute_result",
          "data": {
            "text/plain": [
              "array([ True,  True,  True, False])"
            ]
          },
          "metadata": {},
          "execution_count": 43
        }
      ]
    },
    {
      "cell_type": "markdown",
      "metadata": {
        "id": "uL8jkWlZ6sFz"
      },
      "source": [
        ""
      ]
    },
    {
      "cell_type": "code",
      "metadata": {
        "colab": {
          "base_uri": "https://localhost:8080/"
        },
        "id": "zLgvuK_i4wSx",
        "outputId": "e176f59d-cca0-4280-cd89-771f1b46018d"
      },
      "source": [
        "x=2.4\n",
        "y=[2.4]\n",
        "x==y"
      ],
      "execution_count": null,
      "outputs": [
        {
          "output_type": "execute_result",
          "data": {
            "text/plain": [
              "False"
            ]
          },
          "metadata": {},
          "execution_count": 47
        }
      ]
    },
    {
      "cell_type": "code",
      "metadata": {
        "colab": {
          "base_uri": "https://localhost:8080/"
        },
        "id": "Qoa4Emyh5ZDl",
        "outputId": "c55f5547-0010-44d2-dba1-c3571b8bcadb"
      },
      "source": [
        "x=2.4\n",
        "y=np.array([2.4])\n",
        "x==y"
      ],
      "execution_count": null,
      "outputs": [
        {
          "output_type": "execute_result",
          "data": {
            "text/plain": [
              "array([ True])"
            ]
          },
          "metadata": {},
          "execution_count": 49
        }
      ]
    },
    {
      "cell_type": "code",
      "metadata": {
        "colab": {
          "base_uri": "https://localhost:8080/"
        },
        "id": "1ZHONU555byr",
        "outputId": "4ff6f002-9a98-4e14-cfd2-d00f3a6d29ab"
      },
      "source": [
        "x=np.array([1,-2])\n",
        "y=np.array([1,1,0])\n",
        "z=np.concatenate((x,y))\n",
        "print(z)"
      ],
      "execution_count": null,
      "outputs": [
        {
          "output_type": "stream",
          "name": "stdout",
          "text": [
            "[ 1 -2  1  1  0]\n"
          ]
        }
      ]
    },
    {
      "cell_type": "code",
      "metadata": {
        "colab": {
          "base_uri": "https://localhost:8080/"
        },
        "id": "hjjl5I_c581v",
        "outputId": "0f779503-f590-4962-d2ae-8a34068ff1b1"
      },
      "source": [
        "x = np.array([1,8,3,2,1,9,7])\n",
        "y = x[1:-3]\n",
        "print(y)"
      ],
      "execution_count": null,
      "outputs": [
        {
          "output_type": "stream",
          "name": "stdout",
          "text": [
            "[8 3 2]\n",
            "[1 8 3 2 1 9 7]\n"
          ]
        }
      ]
    },
    {
      "cell_type": "code",
      "metadata": {
        "colab": {
          "base_uri": "https://localhost:8080/"
        },
        "id": "2M5_STET7Cxg",
        "outputId": "a44de033-8565-407a-97a3-2038d491bd3c"
      },
      "source": [
        "print(x)\n",
        "x[3:6] = [100,200,300]\n",
        "print(x)"
      ],
      "execution_count": null,
      "outputs": [
        {
          "output_type": "stream",
          "name": "stdout",
          "text": [
            "[  1   8   3 100 200 300   7]\n",
            "[  1   8   3 100 200 300   7]\n"
          ]
        }
      ]
    },
    {
      "cell_type": "code",
      "metadata": {
        "colab": {
          "base_uri": "https://localhost:8080/"
        },
        "id": "af7PJElx7pvO",
        "outputId": "aa07e57a-5a32-4b64-8d0f-21d5b551a06b"
      },
      "source": [
        "x = np.array([1,8,3,2,1,9,7])\n",
        "print(x[2:])\n",
        "print(x[:-1])\n",
        "print(x[:])\n",
        "print(x[::-1])"
      ],
      "execution_count": null,
      "outputs": [
        {
          "output_type": "stream",
          "name": "stdout",
          "text": [
            "[3 2 1 9 7]\n",
            "[1 8 3 2 1 9]\n",
            "[1 8 3 2 1 9 7]\n",
            "[7 9 1 2 3 8 1]\n"
          ]
        }
      ]
    },
    {
      "cell_type": "code",
      "metadata": {
        "colab": {
          "base_uri": "https://localhost:8080/"
        },
        "id": "pastg1GC70_k",
        "outputId": "d9fa2b61-5549-451e-c3b7-6963a34b0cad"
      },
      "source": [
        "x = np.array([1,8,3,2,1,9,7])\n",
        "d = x[1:] - x[:-1]\n",
        "print(x[1:])\n",
        "print(x[:-1])\n",
        "print(d)"
      ],
      "execution_count": null,
      "outputs": [
        {
          "output_type": "stream",
          "name": "stdout",
          "text": [
            "[8 3 2 1 9 7]\n",
            "[1 8 3 2 1 9]\n",
            "[ 7 -5 -1 -1  8 -2]\n"
          ]
        }
      ]
    },
    {
      "cell_type": "code",
      "metadata": {
        "colab": {
          "base_uri": "https://localhost:8080/"
        },
        "id": "-BGU5pwM9aNB",
        "outputId": "76a5c2e6-eafe-4d38-b1ac-3a50a661e1c0"
      },
      "source": [
        "np.zeros(3)\n"
      ],
      "execution_count": null,
      "outputs": [
        {
          "output_type": "execute_result",
          "data": {
            "text/plain": [
              "array([0., 0., 0.])"
            ]
          },
          "metadata": {},
          "execution_count": 99
        }
      ]
    },
    {
      "cell_type": "code",
      "metadata": {
        "colab": {
          "base_uri": "https://localhost:8080/"
        },
        "id": "B0FGhQo_-BTo",
        "outputId": "262b75c4-5b7a-4782-f21e-e8c7a10e0edb"
      },
      "source": [
        "i=2\n",
        "n=4\n",
        "x = np.zeros(n)\n",
        "x[i] = 1\n",
        "print(x)"
      ],
      "execution_count": null,
      "outputs": [
        {
          "output_type": "stream",
          "name": "stdout",
          "text": [
            "[0. 0. 1. 0.]\n"
          ]
        }
      ]
    },
    {
      "cell_type": "code",
      "metadata": {
        "colab": {
          "base_uri": "https://localhost:8080/"
        },
        "id": "uxLTPK9n-Cy0",
        "outputId": "5438de8f-79b6-44cb-8fd1-ab9f347fa959"
      },
      "source": [
        "np.random.random(2)"
      ],
      "execution_count": null,
      "outputs": [
        {
          "output_type": "execute_result",
          "data": {
            "text/plain": [
              "array([0.89937077, 0.16796529])"
            ]
          },
          "metadata": {},
          "execution_count": 109
        }
      ]
    },
    {
      "cell_type": "code",
      "metadata": {
        "colab": {
          "base_uri": "https://localhost:8080/"
        },
        "id": "QdG1_QZq-WdY",
        "outputId": "9263c3f9-096f-49bf-c314-949bb3b77f1c"
      },
      "source": [
        "n=4\n",
        "for i in range(0,n):\n",
        "  x=np.zeros(n)\n",
        "  x[i]=1\n",
        "  print(x)\n"
      ],
      "execution_count": null,
      "outputs": [
        {
          "output_type": "stream",
          "name": "stdout",
          "text": [
            "[1. 0. 0. 0.]\n",
            "[0. 1. 0. 0.]\n",
            "[0. 0. 1. 0.]\n",
            "[0. 0. 0. 1.]\n",
            "[0. 0. 0. 1.]\n"
          ]
        }
      ]
    },
    {
      "cell_type": "code",
      "metadata": {
        "colab": {
          "base_uri": "https://localhost:8080/",
          "height": 264
        },
        "id": "bUjj1rKu-bDv",
        "outputId": "18ce5495-5ac9-40ae-d324-1418fa6ee70c"
      },
      "source": [
        "import matplotlib.pyplot as plt\n",
        "plt.ion()\n",
        "temps = [ 71, 71, 68, 69, 68, 69, 68, 74, 77, 82, 85, 86, 88, 86,\n",
        "85, 86, 84, 79, 77, 75, 73, 71, 70, 70, 69, 69, 69, 69, 67,\n",
        "68, 68, 73, 76, 77, 82, 84, 84, 81, 80, 78, 79, 78, 73, 72,\n",
        "70, 70, 68, 67 ]\n",
        "\n",
        "plt.plot(temps, '-go')\n",
        "plt.savefig('temperature.pdf', format = 'pdf')\n",
        "plt.show() \n"
      ],
      "execution_count": null,
      "outputs": [
        {
          "output_type": "display_data",
          "data": {
            "image/png": "[encoded data removed]",
            "text/plain": [
              "<Figure size 432x288 with 1 Axes>"
            ]
          },
          "metadata": {
            "needs_background": "light"
          }
        }
      ]
    },
    {
      "cell_type": "code",
      "metadata": {
        "colab": {
          "base_uri": "https://localhost:8080/",
          "height": 264
        },
        "id": "PXf6NHid_aGq",
        "outputId": "d7eef7df-ffd8-4ab4-cc75-660bc35fcbc9"
      },
      "source": [
        "import matplotlib.pyplot as plt\n",
        "plt.ion()\n",
        "temps = [ 71, 71, 68, 69, 68, 69, 68, 74, 77, 82, 85, 86, 88, 86,\n",
        "85, 86, 84, 79, 77, 75, 73, 71, 70, 70, 69, 69, 69, 69, 67,\n",
        "68, 68, 73, 76, 77, 82, 84, 84, 81, 80, 78, 79, 78, 73, 72,\n",
        "70, 70, 68, 67 ]\n",
        "\n",
        "tmp = temps[::-1]\n",
        "plt.plot(tmp, '-bo')\n",
        "plt.show()"
      ],
      "execution_count": null,
      "outputs": [
        {
          "output_type": "display_data",
          "data": {
            "image/png": "[encoded data removed]",
            "text/plain": [
              "<Figure size 432x288 with 1 Axes>"
            ]
          },
          "metadata": {
            "needs_background": "light"
          }
        }
      ]
    },
    {
      "cell_type": "code",
      "metadata": {
        "colab": {
          "base_uri": "https://localhost:8080/"
        },
        "id": "5ZZgvNI6_0ue",
        "outputId": "dae7f4d6-b4b7-4073-a82d-3238e3de1b24"
      },
      "source": [
        "x = np.array([1,2,3])\n",
        "y = np.array([100,200,300])\n",
        "print('Sum of arrays : ', x+y)\n",
        "print('Difference of array : ', x-y)\n",
        "print('Scalar multiple of arrays : ', 2.2*x)\n",
        "print('Scalar division of arrays : ', x/2.2)\n",
        "print(x**2)"
      ],
      "execution_count": null,
      "outputs": [
        {
          "output_type": "stream",
          "name": "stdout",
          "text": [
            "Sum of arrays :  [101 202 303]\n",
            "Difference of array :  [ -99 -198 -297]\n",
            "Scalar multiple of arrays :  [2.2 4.4 6.6]\n",
            "Scalar division of arrays :  [0.45454545 0.90909091 1.36363636]\n",
            "[1 4 9]\n"
          ]
        }
      ]
    },
    {
      "cell_type": "code",
      "metadata": {
        "colab": {
          "base_uri": "https://localhost:8080/"
        },
        "id": "ec0JwpdsA4LP",
        "outputId": "b292a9b2-8903-46c0-c3f6-1defd33092f8"
      },
      "source": [
        "p_initial = np.array([22.15, 89.32, 56.77])\n",
        "p_final = np.array([23.05, 87.32, 53.13])\n",
        "r = (p_final-p_initial)/p_initial\n",
        "print(r)"
      ],
      "execution_count": null,
      "outputs": [
        {
          "output_type": "stream",
          "name": "stdout",
          "text": [
            "[ 0.04063205 -0.0223914  -0.06411837]\n"
          ]
        }
      ]
    },
    {
      "cell_type": "code",
      "metadata": {
        "colab": {
          "base_uri": "https://localhost:8080/"
        },
        "id": "nkeNirQwBSi3",
        "outputId": "7375be30-ca6c-4c65-9a22-127f177160bf"
      },
      "source": [
        "a=np.array([1,2])\n",
        "b=np.array([3,4])\n",
        "alpha = -0.5\n",
        "beta = 1.5\n",
        "c=alpha*a + beta*b\n",
        "print(c)"
      ],
      "execution_count": null,
      "outputs": [
        {
          "output_type": "stream",
          "name": "stdout",
          "text": [
            "[4. 5.]\n"
          ]
        }
      ]
    },
    {
      "cell_type": "code",
      "metadata": {
        "colab": {
          "base_uri": "https://localhost:8080/"
        },
        "id": "JfoZ0ojxBex3",
        "outputId": "ba067d2b-58ec-4be3-b340-b4b632f215d1"
      },
      "source": [
        "def lincomb(coef, vectors):\n",
        "  n = len(vectors[0])\n",
        "  comb = np.zeros(n)\n",
        "  for i in range(len(vectors)):\n",
        "  \n",
        "    comb = comb + coef[i] * vectors[i]\n",
        "  return comb\n",
        "\n",
        "c = lincomb([alpha, beta], [a,b])\n",
        "print(c)"
      ],
      "execution_count": null,
      "outputs": [
        {
          "output_type": "stream",
          "name": "stdout",
          "text": [
            "[4. 5.]\n"
          ]
        }
      ]
    }
  ]
}